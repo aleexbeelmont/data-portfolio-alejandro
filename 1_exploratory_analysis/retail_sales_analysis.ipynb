# Retail Sales Analysis

import pandas as pd
import matplotlib.pyplot as plt

df = pd.read_csv("sales.csv")
df['date'] = pd.to_datetime(df['date'])
df.set_index('date', inplace=True)

monthly_sales = df['amount'].resample('M').sum()

plt.figure(figsize=(10, 5))
plt.plot(monthly_sales, marker='o')
plt.title("Monthly Retail Sales")
plt.xlabel("Month")
plt.ylabel("Total Sales")
plt.grid(True)
plt.show()
